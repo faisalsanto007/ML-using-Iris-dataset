{
 "cells": [
  {
   "cell_type": "markdown",
   "metadata": {},
   "source": [
    "### checking out scikit learn\n"
   ]
  },
  {
   "cell_type": "code",
   "execution_count": 1,
   "metadata": {},
   "outputs": [
    {
     "data": {
      "text/plain": [
       "2"
      ]
     },
     "execution_count": 1,
     "metadata": {},
     "output_type": "execute_result"
    }
   ],
   "source": [
    "import numpy as np\n",
    "from sklearn.metrics import accuracy_score\n",
    "y_pred = [0,2,1,3]\n",
    "y_true = [0,1,2,3]\n",
    "accuracy_score(y_true, y_pred)\n",
    "#output shows 0.5 means 50% accuracy since 2 out 4 data were correct\n",
    "accuracy_score(y_true, y_pred, normalize = False)\n",
    "#output shows 2 bcoz 2 of the data were true."
   ]
  },
  {
   "cell_type": "markdown",
   "metadata": {},
   "source": [
    "### checking out panda function"
   ]
  },
  {
   "cell_type": "code",
   "execution_count": 2,
   "metadata": {},
   "outputs": [
    {
     "data": {
      "text/html": [
       "<div>\n",
       "<style scoped>\n",
       "    .dataframe tbody tr th:only-of-type {\n",
       "        vertical-align: middle;\n",
       "    }\n",
       "\n",
       "    .dataframe tbody tr th {\n",
       "        vertical-align: top;\n",
       "    }\n",
       "\n",
       "    .dataframe thead th {\n",
       "        text-align: right;\n",
       "    }\n",
       "</style>\n",
       "<table border=\"1\" class=\"dataframe\">\n",
       "  <thead>\n",
       "    <tr style=\"text-align: right;\">\n",
       "      <th></th>\n",
       "      <th>Name</th>\n",
       "      <th>Location</th>\n",
       "      <th>Age</th>\n",
       "    </tr>\n",
       "  </thead>\n",
       "  <tbody>\n",
       "    <tr>\n",
       "      <td>0</td>\n",
       "      <td>জসিম</td>\n",
       "      <td>রাজশাহী</td>\n",
       "      <td>24</td>\n",
       "    </tr>\n",
       "    <tr>\n",
       "      <td>1</td>\n",
       "      <td>করিম</td>\n",
       "      <td>ঢাকা</td>\n",
       "      <td>13</td>\n",
       "    </tr>\n",
       "    <tr>\n",
       "      <td>2</td>\n",
       "      <td>মিতা</td>\n",
       "      <td>রংপুর</td>\n",
       "      <td>53</td>\n",
       "    </tr>\n",
       "    <tr>\n",
       "      <td>3</td>\n",
       "      <td>অন্তরা</td>\n",
       "      <td>কুষ্টিয়া</td>\n",
       "      <td>33</td>\n",
       "    </tr>\n",
       "  </tbody>\n",
       "</table>\n",
       "</div>"
      ],
      "text/plain": [
       "     Name  Location  Age\n",
       "0    জসিম   রাজশাহী   24\n",
       "1    করিম      ঢাকা   13\n",
       "2    মিতা     রংপুর   53\n",
       "3  অন্তরা  কুষ্টিয়া   33"
      ]
     },
     "metadata": {},
     "output_type": "display_data"
    }
   ],
   "source": [
    "import pandas as pd\n",
    "\n",
    "# create a simple dataset of people\n",
    "data = {'Name': [\"জসিম\", \"করিম\", \"মিতা\", \"অন্তরা\"],\n",
    "        'Location' : [\"রাজশাহী\", \"ঢাকা\", \"রংপুর\", \"কুষ্টিয়া\"],\n",
    "        'Age' : [24, 13, 53, 33]\n",
    "       }\n",
    "\n",
    "frame = pd.DataFrame(data)\n",
    "\n",
    "display(frame)"
   ]
  },
  {
   "cell_type": "code",
   "execution_count": 3,
   "metadata": {},
   "outputs": [
    {
     "data": {
      "text/html": [
       "<div>\n",
       "<style scoped>\n",
       "    .dataframe tbody tr th:only-of-type {\n",
       "        vertical-align: middle;\n",
       "    }\n",
       "\n",
       "    .dataframe tbody tr th {\n",
       "        vertical-align: top;\n",
       "    }\n",
       "\n",
       "    .dataframe thead th {\n",
       "        text-align: right;\n",
       "    }\n",
       "</style>\n",
       "<table border=\"1\" class=\"dataframe\">\n",
       "  <thead>\n",
       "    <tr style=\"text-align: right;\">\n",
       "      <th></th>\n",
       "      <th>Name</th>\n",
       "      <th>Location</th>\n",
       "      <th>Age</th>\n",
       "    </tr>\n",
       "  </thead>\n",
       "  <tbody>\n",
       "    <tr>\n",
       "      <td>2</td>\n",
       "      <td>মিতা</td>\n",
       "      <td>রংপুর</td>\n",
       "      <td>53</td>\n",
       "    </tr>\n",
       "    <tr>\n",
       "      <td>3</td>\n",
       "      <td>অন্তরা</td>\n",
       "      <td>কুষ্টিয়া</td>\n",
       "      <td>33</td>\n",
       "    </tr>\n",
       "  </tbody>\n",
       "</table>\n",
       "</div>"
      ],
      "text/plain": [
       "     Name  Location  Age\n",
       "2    মিতা     রংপুর   53\n",
       "3  অন্তরা  কুষ্টিয়া   33"
      ]
     },
     "metadata": {},
     "output_type": "display_data"
    }
   ],
   "source": [
    "#trying out some query\n",
    "display(frame[frame.Age > 30])"
   ]
  },
  {
   "cell_type": "markdown",
   "metadata": {},
   "source": [
    "### checking out numpy"
   ]
  },
  {
   "cell_type": "code",
   "execution_count": 4,
   "metadata": {},
   "outputs": [
    {
     "data": {
      "text/plain": [
       "array([1, 2, 3])"
      ]
     },
     "execution_count": 4,
     "metadata": {},
     "output_type": "execute_result"
    }
   ],
   "source": [
    "#creating array with numpy\n",
    "import numpy as np\n",
    "x = np.array([1,2,3])\n",
    "x"
   ]
  },
  {
   "cell_type": "code",
   "execution_count": 5,
   "metadata": {},
   "outputs": [
    {
     "data": {
      "text/plain": [
       "array([0, 1, 2, 3, 4, 5, 6, 7, 8, 9])"
      ]
     },
     "execution_count": 5,
     "metadata": {},
     "output_type": "execute_result"
    }
   ],
   "source": [
    "y = np.arange(10)\n",
    "y"
   ]
  },
  {
   "cell_type": "code",
   "execution_count": 9,
   "metadata": {},
   "outputs": [
    {
     "data": {
      "text/plain": [
       "array([[ 1,  2,  3,  4],\n",
       "       [ 5,  6,  7,  8],\n",
       "       [ 9, 10, 11, 12]])"
      ]
     },
     "execution_count": 9,
     "metadata": {},
     "output_type": "execute_result"
    }
   ],
   "source": [
    "#creating multidimensional(3*4) array\n",
    "\n",
    "import numpy as np\n",
    "a = np.array([[1,2,3,4], [5,6,7,8], [9,10,11,12]]) # 3*4 array[3ta row, 4ta column]\n",
    "a"
   ]
  },
  {
   "cell_type": "code",
   "execution_count": 11,
   "metadata": {},
   "outputs": [
    {
     "name": "stdout",
     "output_type": "stream",
     "text": [
      "[[2 3]\n",
      " [6 7]]\n"
     ]
    }
   ],
   "source": [
    "#we'll slice our array\n",
    "\n",
    "b= a[:2, 1:3] #[row, column],python e indexing 0 theke start. row(:2)diye 0,1 row neya hoy bujhacche coz last num(2) baad pore\n",
    "print(b)\n",
    "#same column er khetre o...1,2 no column neya hocche, 0,3 baad"
   ]
  },
  {
   "cell_type": "code",
   "execution_count": 8,
   "metadata": {},
   "outputs": [
    {
     "name": "stdout",
     "output_type": "stream",
     "text": [
      "[[1 2 3 4]\n",
      " [5 6 7 8]]\n"
     ]
    }
   ],
   "source": [
    "c = a[:2] #ekhane slicing shudhu matro row slicing kora hocche coz 2nd kono comma nei...(0,1) row neya hocche\n",
    "print(c)"
   ]
  },
  {
   "cell_type": "markdown",
   "metadata": {},
   "source": [
    "### function"
   ]
  },
  {
   "cell_type": "code",
   "execution_count": 10,
   "metadata": {},
   "outputs": [
    {
     "name": "stdout",
     "output_type": "stream",
     "text": [
      "6\n"
     ]
    }
   ],
   "source": [
    "def double(x):\n",
    "    return x*2\n",
    "\n",
    "print(double(3))"
   ]
  },
  {
   "cell_type": "code",
   "execution_count": 12,
   "metadata": {},
   "outputs": [
    {
     "name": "stdout",
     "output_type": "stream",
     "text": [
      "9\n"
     ]
    }
   ],
   "source": [
    "def square(x):\n",
    "    return x*x\n",
    "\n",
    "print(square(3))"
   ]
  },
  {
   "cell_type": "markdown",
   "metadata": {},
   "source": [
    "### dictionary"
   ]
  },
  {
   "cell_type": "code",
   "execution_count": 13,
   "metadata": {},
   "outputs": [
    {
     "data": {
      "text/plain": [
       "{'rafiq': 4098, 'mim': 4139, 'karim': 4127}"
      ]
     },
     "execution_count": 13,
     "metadata": {},
     "output_type": "execute_result"
    }
   ],
   "source": [
    "tel = {'rafiq': 4098, 'mim': 4139}\n",
    "tel['karim'] = 4127\n",
    "tel"
   ]
  },
  {
   "cell_type": "code",
   "execution_count": 14,
   "metadata": {},
   "outputs": [
    {
     "data": {
      "text/plain": [
       "4139"
      ]
     },
     "execution_count": 14,
     "metadata": {},
     "output_type": "execute_result"
    }
   ],
   "source": [
    "tel['mim']"
   ]
  },
  {
   "cell_type": "code",
   "execution_count": 28,
   "metadata": {},
   "outputs": [
    {
     "name": "stdout",
     "output_type": "stream",
     "text": [
      "data science from scratch joel grus\n",
      "python data scince handbook jake vanderplas\n"
     ]
    }
   ],
   "source": [
    "# looping dictionary items\n",
    "\n",
    "mlbooks = {'data science from scratch': 'joel grus', 'python data scince handbook': 'jake vanderplas'}\n",
    "\n",
    "for x,y in mlbooks.items():\n",
    "    print(x,y)"
   ]
  },
  {
   "cell_type": "markdown",
   "metadata": {},
   "source": [
    "### for loop, if/else condition"
   ]
  },
  {
   "cell_type": "code",
   "execution_count": 7,
   "metadata": {},
   "outputs": [
    {
     "name": "stdout",
     "output_type": "stream",
     "text": [
      "cat 3\n",
      "window 6\n",
      "door 4\n"
     ]
    }
   ],
   "source": [
    "words = ['cat','window','door']\n",
    "for x in words:\n",
    "    print(x, len(x))"
   ]
  },
  {
   "cell_type": "markdown",
   "metadata": {},
   "source": [
    "### lists"
   ]
  },
  {
   "cell_type": "code",
   "execution_count": 8,
   "metadata": {},
   "outputs": [
    {
     "data": {
      "text/plain": [
       "[1, 4, 9, 16, 25, 36]"
      ]
     },
     "execution_count": 8,
     "metadata": {},
     "output_type": "execute_result"
    }
   ],
   "source": [
    "squares = [1,4,9,16,25,36]\n",
    "squares"
   ]
  },
  {
   "cell_type": "code",
   "execution_count": 9,
   "metadata": {},
   "outputs": [
    {
     "data": {
      "text/plain": [
       "36"
      ]
     },
     "execution_count": 9,
     "metadata": {},
     "output_type": "execute_result"
    }
   ],
   "source": [
    "squares[-1]"
   ]
  },
  {
   "cell_type": "code",
   "execution_count": 13,
   "metadata": {},
   "outputs": [
    {
     "data": {
      "text/plain": [
       "[1, 4, 9]"
      ]
     },
     "execution_count": 13,
     "metadata": {},
     "output_type": "execute_result"
    }
   ],
   "source": [
    "squares[:3]"
   ]
  },
  {
   "cell_type": "markdown",
   "metadata": {},
   "source": [
    "### normal expression"
   ]
  },
  {
   "cell_type": "code",
   "execution_count": 14,
   "metadata": {},
   "outputs": [
    {
     "name": "stdout",
     "output_type": "stream",
     "text": [
      "600\n"
     ]
    }
   ],
   "source": [
    "width = 20\n",
    "height = 5*6\n",
    "square = width*height\n",
    "print(square)"
   ]
  },
  {
   "cell_type": "code",
   "execution_count": 26,
   "metadata": {},
   "outputs": [
    {
     "data": {
      "text/plain": [
       "12.5625"
      ]
     },
     "execution_count": 26,
     "metadata": {},
     "output_type": "execute_result"
    }
   ],
   "source": [
    "tax = 12.5/100\n",
    "price = 100.50\n",
    "price*tax"
   ]
  },
  {
   "cell_type": "code",
   "execution_count": 27,
   "metadata": {},
   "outputs": [
    {
     "data": {
      "text/plain": [
       "113.0625"
      ]
     },
     "execution_count": 27,
     "metadata": {},
     "output_type": "execute_result"
    }
   ],
   "source": [
    "price+_ #ekhane (_) last j value sheita k add kortese"
   ]
  },
  {
   "cell_type": "code",
   "execution_count": 28,
   "metadata": {},
   "outputs": [
    {
     "data": {
      "text/plain": [
       "113.06"
      ]
     },
     "execution_count": 28,
     "metadata": {},
     "output_type": "execute_result"
    }
   ],
   "source": [
    "round(_,2) #2 decimal point porjonto round kortese"
   ]
  },
  {
   "cell_type": "markdown",
   "metadata": {},
   "source": [
    "### pass"
   ]
  },
  {
   "cell_type": "code",
   "execution_count": 29,
   "metadata": {},
   "outputs": [],
   "source": [
    "# pass is just a placeholder for functionality to be added later\n",
    "sequence = {'p','a','s','s'}\n",
    "for val in sequence:\n",
    "    pass"
   ]
  },
  {
   "cell_type": "code",
   "execution_count": 30,
   "metadata": {},
   "outputs": [],
   "source": [
    "def function(args):\n",
    "    pass"
   ]
  },
  {
   "cell_type": "code",
   "execution_count": 31,
   "metadata": {},
   "outputs": [],
   "source": [
    "class example:\n",
    "    pass"
   ]
  },
  {
   "cell_type": "markdown",
   "metadata": {},
   "source": [
    "### dir() function"
   ]
  },
  {
   "cell_type": "code",
   "execution_count": 33,
   "metadata": {},
   "outputs": [
    {
     "data": {
      "text/plain": [
       "['DESCR', 'data', 'feature_names', 'filename', 'target', 'target_names']"
      ]
     },
     "execution_count": 33,
     "metadata": {},
     "output_type": "execute_result"
    }
   ],
   "source": [
    "from sklearn import datasets\n",
    "iris = datasets.load_iris()\n",
    "dir(iris)"
   ]
  },
  {
   "cell_type": "code",
   "execution_count": 40,
   "metadata": {},
   "outputs": [
    {
     "data": {
      "text/plain": [
       "['Chirps_15s',\n",
       " 'Date',\n",
       " 'T',\n",
       " 'Temp_C',\n",
       " 'Time',\n",
       " '_AXIS_ALIASES',\n",
       " '_AXIS_IALIASES',\n",
       " '_AXIS_LEN',\n",
       " '_AXIS_NAMES',\n",
       " '_AXIS_NUMBERS',\n",
       " '_AXIS_ORDERS',\n",
       " '_AXIS_REVERSED',\n",
       " '__abs__',\n",
       " '__add__',\n",
       " '__and__',\n",
       " '__array__',\n",
       " '__array_priority__',\n",
       " '__array_wrap__',\n",
       " '__bool__',\n",
       " '__class__',\n",
       " '__contains__',\n",
       " '__copy__',\n",
       " '__deepcopy__',\n",
       " '__delattr__',\n",
       " '__delitem__',\n",
       " '__dict__',\n",
       " '__dir__',\n",
       " '__div__',\n",
       " '__doc__',\n",
       " '__eq__',\n",
       " '__finalize__',\n",
       " '__floordiv__',\n",
       " '__format__',\n",
       " '__ge__',\n",
       " '__getattr__',\n",
       " '__getattribute__',\n",
       " '__getitem__',\n",
       " '__getstate__',\n",
       " '__gt__',\n",
       " '__hash__',\n",
       " '__iadd__',\n",
       " '__iand__',\n",
       " '__ifloordiv__',\n",
       " '__imod__',\n",
       " '__imul__',\n",
       " '__init__',\n",
       " '__init_subclass__',\n",
       " '__invert__',\n",
       " '__ior__',\n",
       " '__ipow__',\n",
       " '__isub__',\n",
       " '__iter__',\n",
       " '__itruediv__',\n",
       " '__ixor__',\n",
       " '__le__',\n",
       " '__len__',\n",
       " '__lt__',\n",
       " '__matmul__',\n",
       " '__mod__',\n",
       " '__module__',\n",
       " '__mul__',\n",
       " '__ne__',\n",
       " '__neg__',\n",
       " '__new__',\n",
       " '__nonzero__',\n",
       " '__or__',\n",
       " '__pos__',\n",
       " '__pow__',\n",
       " '__radd__',\n",
       " '__rand__',\n",
       " '__rdiv__',\n",
       " '__reduce__',\n",
       " '__reduce_ex__',\n",
       " '__repr__',\n",
       " '__rfloordiv__',\n",
       " '__rmatmul__',\n",
       " '__rmod__',\n",
       " '__rmul__',\n",
       " '__ror__',\n",
       " '__round__',\n",
       " '__rpow__',\n",
       " '__rsub__',\n",
       " '__rtruediv__',\n",
       " '__rxor__',\n",
       " '__setattr__',\n",
       " '__setitem__',\n",
       " '__setstate__',\n",
       " '__sizeof__',\n",
       " '__str__',\n",
       " '__sub__',\n",
       " '__subclasshook__',\n",
       " '__truediv__',\n",
       " '__weakref__',\n",
       " '__xor__',\n",
       " '_accessors',\n",
       " '_add_numeric_operations',\n",
       " '_add_series_only_operations',\n",
       " '_add_series_or_dataframe_operations',\n",
       " '_agg_by_level',\n",
       " '_agg_examples_doc',\n",
       " '_agg_summary_and_see_also_doc',\n",
       " '_aggregate',\n",
       " '_aggregate_multiple_funcs',\n",
       " '_align_frame',\n",
       " '_align_series',\n",
       " '_box_col_values',\n",
       " '_box_item_values',\n",
       " '_builtin_table',\n",
       " '_check_inplace_setting',\n",
       " '_check_is_chained_assignment_possible',\n",
       " '_check_label_or_level_ambiguity',\n",
       " '_check_percentile',\n",
       " '_check_setitem_copy',\n",
       " '_clear_item_cache',\n",
       " '_clip_with_one_bound',\n",
       " '_clip_with_scalar',\n",
       " '_combine_const',\n",
       " '_combine_frame',\n",
       " '_combine_match_columns',\n",
       " '_combine_match_index',\n",
       " '_consolidate',\n",
       " '_consolidate_inplace',\n",
       " '_construct_axes_dict',\n",
       " '_construct_axes_dict_from',\n",
       " '_construct_axes_from_arguments',\n",
       " '_constructor',\n",
       " '_constructor_expanddim',\n",
       " '_constructor_sliced',\n",
       " '_convert',\n",
       " '_count_level',\n",
       " '_create_indexer',\n",
       " '_cython_table',\n",
       " '_data',\n",
       " '_deprecations',\n",
       " '_dir_additions',\n",
       " '_dir_deletions',\n",
       " '_drop_axis',\n",
       " '_drop_labels_or_levels',\n",
       " '_ensure_valid_index',\n",
       " '_find_valid_index',\n",
       " '_from_arrays',\n",
       " '_from_axes',\n",
       " '_get_agg_axis',\n",
       " '_get_axis',\n",
       " '_get_axis_name',\n",
       " '_get_axis_number',\n",
       " '_get_axis_resolvers',\n",
       " '_get_block_manager_axis',\n",
       " '_get_bool_data',\n",
       " '_get_cacher',\n",
       " '_get_index_resolvers',\n",
       " '_get_item_cache',\n",
       " '_get_label_or_level_values',\n",
       " '_get_numeric_data',\n",
       " '_get_space_character_free_column_resolvers',\n",
       " '_get_value',\n",
       " '_get_values',\n",
       " '_getitem_bool_array',\n",
       " '_getitem_frame',\n",
       " '_getitem_multilevel',\n",
       " '_gotitem',\n",
       " '_iget_item_cache',\n",
       " '_indexed_same',\n",
       " '_info_axis',\n",
       " '_info_axis_name',\n",
       " '_info_axis_number',\n",
       " '_info_repr',\n",
       " '_init_mgr',\n",
       " '_internal_get_values',\n",
       " '_internal_names',\n",
       " '_internal_names_set',\n",
       " '_is_builtin_func',\n",
       " '_is_cached',\n",
       " '_is_copy',\n",
       " '_is_cython_func',\n",
       " '_is_datelike_mixed_type',\n",
       " '_is_homogeneous_type',\n",
       " '_is_label_or_level_reference',\n",
       " '_is_label_reference',\n",
       " '_is_level_reference',\n",
       " '_is_mixed_type',\n",
       " '_is_numeric_mixed_type',\n",
       " '_is_view',\n",
       " '_ix',\n",
       " '_ixs',\n",
       " '_join_compat',\n",
       " '_maybe_cache_changed',\n",
       " '_maybe_update_cacher',\n",
       " '_metadata',\n",
       " '_needs_reindex_multi',\n",
       " '_obj_with_exclusions',\n",
       " '_protect_consolidate',\n",
       " '_reduce',\n",
       " '_reindex_axes',\n",
       " '_reindex_columns',\n",
       " '_reindex_index',\n",
       " '_reindex_multi',\n",
       " '_reindex_with_indexers',\n",
       " '_repr_data_resource_',\n",
       " '_repr_fits_horizontal_',\n",
       " '_repr_fits_vertical_',\n",
       " '_repr_html_',\n",
       " '_repr_latex_',\n",
       " '_reset_cache',\n",
       " '_reset_cacher',\n",
       " '_sanitize_column',\n",
       " '_selected_obj',\n",
       " '_selection',\n",
       " '_selection_list',\n",
       " '_selection_name',\n",
       " '_series',\n",
       " '_set_as_cached',\n",
       " '_set_axis',\n",
       " '_set_axis_name',\n",
       " '_set_is_copy',\n",
       " '_set_item',\n",
       " '_set_value',\n",
       " '_setitem_array',\n",
       " '_setitem_frame',\n",
       " '_setitem_slice',\n",
       " '_setup_axes',\n",
       " '_shallow_copy',\n",
       " '_slice',\n",
       " '_stat_axis',\n",
       " '_stat_axis_name',\n",
       " '_stat_axis_number',\n",
       " '_to_dict_of_blocks',\n",
       " '_try_aggregate_string_function',\n",
       " '_typ',\n",
       " '_unpickle_frame_compat',\n",
       " '_unpickle_matrix_compat',\n",
       " '_update_inplace',\n",
       " '_validate_dtype',\n",
       " '_values',\n",
       " '_where',\n",
       " '_xs',\n",
       " 'abs',\n",
       " 'add',\n",
       " 'add_prefix',\n",
       " 'add_suffix',\n",
       " 'agg',\n",
       " 'aggregate',\n",
       " 'align',\n",
       " 'all',\n",
       " 'any',\n",
       " 'append',\n",
       " 'apply',\n",
       " 'applymap',\n",
       " 'as_matrix',\n",
       " 'asfreq',\n",
       " 'asof',\n",
       " 'assign',\n",
       " 'astype',\n",
       " 'at',\n",
       " 'at_time',\n",
       " 'axes',\n",
       " 'between_time',\n",
       " 'bfill',\n",
       " 'bool',\n",
       " 'boxplot',\n",
       " 'clip',\n",
       " 'clip_lower',\n",
       " 'clip_upper',\n",
       " 'columns',\n",
       " 'combine',\n",
       " 'combine_first',\n",
       " 'compound',\n",
       " 'copy',\n",
       " 'corr',\n",
       " 'corrwith',\n",
       " 'count',\n",
       " 'cov',\n",
       " 'cummax',\n",
       " 'cummin',\n",
       " 'cumprod',\n",
       " 'cumsum',\n",
       " 'describe',\n",
       " 'diff',\n",
       " 'div',\n",
       " 'divide',\n",
       " 'dot',\n",
       " 'drop',\n",
       " 'drop_duplicates',\n",
       " 'droplevel',\n",
       " 'dropna',\n",
       " 'dtypes',\n",
       " 'duplicated',\n",
       " 'empty',\n",
       " 'eq',\n",
       " 'equals',\n",
       " 'eval',\n",
       " 'ewm',\n",
       " 'expanding',\n",
       " 'explode',\n",
       " 'ffill',\n",
       " 'fillna',\n",
       " 'filter',\n",
       " 'first',\n",
       " 'first_valid_index',\n",
       " 'floordiv',\n",
       " 'from_dict',\n",
       " 'from_records',\n",
       " 'ftypes',\n",
       " 'ge',\n",
       " 'get',\n",
       " 'get_dtype_counts',\n",
       " 'get_ftype_counts',\n",
       " 'get_values',\n",
       " 'groupby',\n",
       " 'gt',\n",
       " 'head',\n",
       " 'hist',\n",
       " 'iat',\n",
       " 'idxmax',\n",
       " 'idxmin',\n",
       " 'iloc',\n",
       " 'index',\n",
       " 'infer_objects',\n",
       " 'info',\n",
       " 'insert',\n",
       " 'interpolate',\n",
       " 'isin',\n",
       " 'isna',\n",
       " 'isnull',\n",
       " 'items',\n",
       " 'iteritems',\n",
       " 'iterrows',\n",
       " 'itertuples',\n",
       " 'ix',\n",
       " 'join',\n",
       " 'keys',\n",
       " 'kurt',\n",
       " 'kurtosis',\n",
       " 'last',\n",
       " 'last_valid_index',\n",
       " 'le',\n",
       " 'loc',\n",
       " 'lookup',\n",
       " 'lt',\n",
       " 'mad',\n",
       " 'mask',\n",
       " 'max',\n",
       " 'mean',\n",
       " 'median',\n",
       " 'melt',\n",
       " 'memory_usage',\n",
       " 'merge',\n",
       " 'min',\n",
       " 'mod',\n",
       " 'mode',\n",
       " 'mul',\n",
       " 'multiply',\n",
       " 'ndim',\n",
       " 'ne',\n",
       " 'nlargest',\n",
       " 'notna',\n",
       " 'notnull',\n",
       " 'nsmallest',\n",
       " 'nunique',\n",
       " 'pct_change',\n",
       " 'pipe',\n",
       " 'pivot',\n",
       " 'pivot_table',\n",
       " 'plot',\n",
       " 'pop',\n",
       " 'pow',\n",
       " 'prod',\n",
       " 'product',\n",
       " 'quantile',\n",
       " 'query',\n",
       " 'radd',\n",
       " 'rank',\n",
       " 'rdiv',\n",
       " 'reindex',\n",
       " 'reindex_like',\n",
       " 'rename',\n",
       " 'rename_axis',\n",
       " 'reorder_levels',\n",
       " 'replace',\n",
       " 'resample',\n",
       " 'reset_index',\n",
       " 'rfloordiv',\n",
       " 'rmod',\n",
       " 'rmul',\n",
       " 'rolling',\n",
       " 'round',\n",
       " 'rpow',\n",
       " 'rsub',\n",
       " 'rtruediv',\n",
       " 'sample',\n",
       " 'select_dtypes',\n",
       " 'sem',\n",
       " 'set_axis',\n",
       " 'set_index',\n",
       " 'shape',\n",
       " 'shift',\n",
       " 'size',\n",
       " 'skew',\n",
       " 'slice_shift',\n",
       " 'sort_index',\n",
       " 'sort_values',\n",
       " 'sparse',\n",
       " 'squeeze',\n",
       " 'stack',\n",
       " 'std',\n",
       " 'style',\n",
       " 'sub',\n",
       " 'subtract',\n",
       " 'sum',\n",
       " 'swapaxes',\n",
       " 'swaplevel',\n",
       " 'tail',\n",
       " 'take',\n",
       " 'to_clipboard',\n",
       " 'to_csv',\n",
       " 'to_dense',\n",
       " 'to_dict',\n",
       " 'to_excel',\n",
       " 'to_feather',\n",
       " 'to_gbq',\n",
       " 'to_hdf',\n",
       " 'to_html',\n",
       " 'to_json',\n",
       " 'to_latex',\n",
       " 'to_msgpack',\n",
       " 'to_numpy',\n",
       " 'to_parquet',\n",
       " 'to_period',\n",
       " 'to_pickle',\n",
       " 'to_records',\n",
       " 'to_sparse',\n",
       " 'to_sql',\n",
       " 'to_stata',\n",
       " 'to_string',\n",
       " 'to_timestamp',\n",
       " 'to_xarray',\n",
       " 'transform',\n",
       " 'transpose',\n",
       " 'truediv',\n",
       " 'truncate',\n",
       " 'tshift',\n",
       " 'tz_convert',\n",
       " 'tz_localize',\n",
       " 'unstack',\n",
       " 'update',\n",
       " 'values',\n",
       " 'var',\n",
       " 'where',\n",
       " 'xs']"
      ]
     },
     "execution_count": 40,
     "metadata": {},
     "output_type": "execute_result"
    }
   ],
   "source": [
    "import pandas as pd\n",
    "data = pd.read_csv('chirps.csv')\n",
    "dir(data)"
   ]
  },
  {
   "cell_type": "code",
   "execution_count": 42,
   "metadata": {},
   "outputs": [
    {
     "name": "stdout",
     "output_type": "stream",
     "text": [
      "      Date  Time  Chirps_15s   Temp_C\n",
      "0   21-Aug  2030      44.000  26.9440\n",
      "1   21-Aug  2100      46.400  25.8330\n",
      "2   21-Aug  2200      43.600  25.5560\n",
      "3   24-Aug  1945      35.000  23.0560\n",
      "4   24-Aug  2015      35.000  21.3890\n",
      "5   24-Aug  2100      32.600  20.0000\n",
      "6   24-Aug  2200      28.900  18.8890\n",
      "7   24-Aug  2230      27.700  18.3330\n",
      "8   25-Aug    30      25.500  16.3890\n",
      "9   25-Aug   330      20.375  13.8890\n",
      "10  25-Aug   500      12.500  12.7780\n",
      "11  25-Aug  2000      37.000  24.5830\n",
      "12  25-Aug  2030      37.500  23.3330\n",
      "13  25-Aug  2100      36.500  23.3330\n",
      "14  25-Aug  2200      36.200  22.5000\n",
      "15  26-Aug   530      33.000  18.8890\n",
      "16  26-Aug  2030      43.000  25.2780\n",
      "17  26-Aug  2200      46.000  25.8330\n",
      "18  27-Aug  2000      29.000  20.2780\n",
      "19  27-Aug  2030      31.700  20.2780\n",
      "20  27-Aug  2100      31.000  20.0000\n",
      "21  27-Aug  2200      28.750  18.8890\n",
      "22  28-Aug   240      23.500  15.0000\n",
      "23  28-Aug  2010      32.400  21.1110\n",
      "24  28-Aug  2050      31.000  20.5560\n",
      "25  28-Aug  2200      29.500  19.4440\n",
      "26  29-Aug   240      22.500  16.2500\n",
      "27  29-Aug   440      20.600  14.7220\n",
      "28  29-Aug  2000      35.000  22.2220\n",
      "29  29-Aug  2050      33.100  21.6670\n",
      "30  29-Aug  2200      31.500  20.5560\n",
      "31  29-Aug  2330      28.800  19.1670\n",
      "32  30-Aug   330      21.300  15.5560\n",
      "33  30-Aug  2000      37.800  23.8890\n",
      "34  30-Aug  2055      37.000  22.9170\n",
      "35  30-Aug  2200      37.100  22.5000\n",
      "36   1-Sep  2200      36.200  21.1110\n",
      "37   2-Sep   330      31.400  19.7220\n",
      "38   2-Sep   600      30.200  18.8890\n",
      "39   4-Sep   240      31.300  20.5560\n",
      "40   4-Sep   505      26.100  17.2220\n",
      "41   5-Sep   500      25.200  17.2220\n",
      "42   6-Sep   600      23.660  16.1110\n",
      "43   7-Sep   215      22.250  16.6670\n",
      "44   7-Sep   525      17.500  13.6110\n",
      "45   9-Sep  2010      15.500  12.7780\n",
      "46   9-Sep  2110      14.750  11.1110\n",
      "47  10-Sep  2115      15.000  11.6670\n",
      "48  10-Sep  2210      14.000  10.0000\n",
      "49  11-Sep   315      18.500  11.1110\n",
      "50  16-Sep  2100      27.700  18.3330\n",
      "51  17-Sep  2200      26.000  17.2220\n",
      "52  18-Sep   130      21.700  15.0000\n",
      "53  19-Sep   415      12.500  10.4170\n",
      "54  19-Sep   435      12.500   9.5833\n"
     ]
    }
   ],
   "source": [
    "print(data)"
   ]
  },
  {
   "cell_type": "code",
   "execution_count": 43,
   "metadata": {},
   "outputs": [
    {
     "data": {
      "text/html": [
       "<div>\n",
       "<style scoped>\n",
       "    .dataframe tbody tr th:only-of-type {\n",
       "        vertical-align: middle;\n",
       "    }\n",
       "\n",
       "    .dataframe tbody tr th {\n",
       "        vertical-align: top;\n",
       "    }\n",
       "\n",
       "    .dataframe thead th {\n",
       "        text-align: right;\n",
       "    }\n",
       "</style>\n",
       "<table border=\"1\" class=\"dataframe\">\n",
       "  <thead>\n",
       "    <tr style=\"text-align: right;\">\n",
       "      <th></th>\n",
       "      <th>Date</th>\n",
       "      <th>Time</th>\n",
       "      <th>Chirps_15s</th>\n",
       "      <th>Temp_C</th>\n",
       "    </tr>\n",
       "  </thead>\n",
       "  <tbody>\n",
       "    <tr>\n",
       "      <td>0</td>\n",
       "      <td>21-Aug</td>\n",
       "      <td>2030</td>\n",
       "      <td>44.000</td>\n",
       "      <td>26.9440</td>\n",
       "    </tr>\n",
       "    <tr>\n",
       "      <td>1</td>\n",
       "      <td>21-Aug</td>\n",
       "      <td>2100</td>\n",
       "      <td>46.400</td>\n",
       "      <td>25.8330</td>\n",
       "    </tr>\n",
       "    <tr>\n",
       "      <td>2</td>\n",
       "      <td>21-Aug</td>\n",
       "      <td>2200</td>\n",
       "      <td>43.600</td>\n",
       "      <td>25.5560</td>\n",
       "    </tr>\n",
       "    <tr>\n",
       "      <td>3</td>\n",
       "      <td>24-Aug</td>\n",
       "      <td>1945</td>\n",
       "      <td>35.000</td>\n",
       "      <td>23.0560</td>\n",
       "    </tr>\n",
       "    <tr>\n",
       "      <td>4</td>\n",
       "      <td>24-Aug</td>\n",
       "      <td>2015</td>\n",
       "      <td>35.000</td>\n",
       "      <td>21.3890</td>\n",
       "    </tr>\n",
       "    <tr>\n",
       "      <td>5</td>\n",
       "      <td>24-Aug</td>\n",
       "      <td>2100</td>\n",
       "      <td>32.600</td>\n",
       "      <td>20.0000</td>\n",
       "    </tr>\n",
       "    <tr>\n",
       "      <td>6</td>\n",
       "      <td>24-Aug</td>\n",
       "      <td>2200</td>\n",
       "      <td>28.900</td>\n",
       "      <td>18.8890</td>\n",
       "    </tr>\n",
       "    <tr>\n",
       "      <td>7</td>\n",
       "      <td>24-Aug</td>\n",
       "      <td>2230</td>\n",
       "      <td>27.700</td>\n",
       "      <td>18.3330</td>\n",
       "    </tr>\n",
       "    <tr>\n",
       "      <td>8</td>\n",
       "      <td>25-Aug</td>\n",
       "      <td>30</td>\n",
       "      <td>25.500</td>\n",
       "      <td>16.3890</td>\n",
       "    </tr>\n",
       "    <tr>\n",
       "      <td>9</td>\n",
       "      <td>25-Aug</td>\n",
       "      <td>330</td>\n",
       "      <td>20.375</td>\n",
       "      <td>13.8890</td>\n",
       "    </tr>\n",
       "    <tr>\n",
       "      <td>10</td>\n",
       "      <td>25-Aug</td>\n",
       "      <td>500</td>\n",
       "      <td>12.500</td>\n",
       "      <td>12.7780</td>\n",
       "    </tr>\n",
       "    <tr>\n",
       "      <td>11</td>\n",
       "      <td>25-Aug</td>\n",
       "      <td>2000</td>\n",
       "      <td>37.000</td>\n",
       "      <td>24.5830</td>\n",
       "    </tr>\n",
       "    <tr>\n",
       "      <td>12</td>\n",
       "      <td>25-Aug</td>\n",
       "      <td>2030</td>\n",
       "      <td>37.500</td>\n",
       "      <td>23.3330</td>\n",
       "    </tr>\n",
       "    <tr>\n",
       "      <td>13</td>\n",
       "      <td>25-Aug</td>\n",
       "      <td>2100</td>\n",
       "      <td>36.500</td>\n",
       "      <td>23.3330</td>\n",
       "    </tr>\n",
       "    <tr>\n",
       "      <td>14</td>\n",
       "      <td>25-Aug</td>\n",
       "      <td>2200</td>\n",
       "      <td>36.200</td>\n",
       "      <td>22.5000</td>\n",
       "    </tr>\n",
       "    <tr>\n",
       "      <td>15</td>\n",
       "      <td>26-Aug</td>\n",
       "      <td>530</td>\n",
       "      <td>33.000</td>\n",
       "      <td>18.8890</td>\n",
       "    </tr>\n",
       "    <tr>\n",
       "      <td>16</td>\n",
       "      <td>26-Aug</td>\n",
       "      <td>2030</td>\n",
       "      <td>43.000</td>\n",
       "      <td>25.2780</td>\n",
       "    </tr>\n",
       "    <tr>\n",
       "      <td>17</td>\n",
       "      <td>26-Aug</td>\n",
       "      <td>2200</td>\n",
       "      <td>46.000</td>\n",
       "      <td>25.8330</td>\n",
       "    </tr>\n",
       "    <tr>\n",
       "      <td>18</td>\n",
       "      <td>27-Aug</td>\n",
       "      <td>2000</td>\n",
       "      <td>29.000</td>\n",
       "      <td>20.2780</td>\n",
       "    </tr>\n",
       "    <tr>\n",
       "      <td>19</td>\n",
       "      <td>27-Aug</td>\n",
       "      <td>2030</td>\n",
       "      <td>31.700</td>\n",
       "      <td>20.2780</td>\n",
       "    </tr>\n",
       "    <tr>\n",
       "      <td>20</td>\n",
       "      <td>27-Aug</td>\n",
       "      <td>2100</td>\n",
       "      <td>31.000</td>\n",
       "      <td>20.0000</td>\n",
       "    </tr>\n",
       "    <tr>\n",
       "      <td>21</td>\n",
       "      <td>27-Aug</td>\n",
       "      <td>2200</td>\n",
       "      <td>28.750</td>\n",
       "      <td>18.8890</td>\n",
       "    </tr>\n",
       "    <tr>\n",
       "      <td>22</td>\n",
       "      <td>28-Aug</td>\n",
       "      <td>240</td>\n",
       "      <td>23.500</td>\n",
       "      <td>15.0000</td>\n",
       "    </tr>\n",
       "    <tr>\n",
       "      <td>23</td>\n",
       "      <td>28-Aug</td>\n",
       "      <td>2010</td>\n",
       "      <td>32.400</td>\n",
       "      <td>21.1110</td>\n",
       "    </tr>\n",
       "    <tr>\n",
       "      <td>24</td>\n",
       "      <td>28-Aug</td>\n",
       "      <td>2050</td>\n",
       "      <td>31.000</td>\n",
       "      <td>20.5560</td>\n",
       "    </tr>\n",
       "    <tr>\n",
       "      <td>25</td>\n",
       "      <td>28-Aug</td>\n",
       "      <td>2200</td>\n",
       "      <td>29.500</td>\n",
       "      <td>19.4440</td>\n",
       "    </tr>\n",
       "    <tr>\n",
       "      <td>26</td>\n",
       "      <td>29-Aug</td>\n",
       "      <td>240</td>\n",
       "      <td>22.500</td>\n",
       "      <td>16.2500</td>\n",
       "    </tr>\n",
       "    <tr>\n",
       "      <td>27</td>\n",
       "      <td>29-Aug</td>\n",
       "      <td>440</td>\n",
       "      <td>20.600</td>\n",
       "      <td>14.7220</td>\n",
       "    </tr>\n",
       "    <tr>\n",
       "      <td>28</td>\n",
       "      <td>29-Aug</td>\n",
       "      <td>2000</td>\n",
       "      <td>35.000</td>\n",
       "      <td>22.2220</td>\n",
       "    </tr>\n",
       "    <tr>\n",
       "      <td>29</td>\n",
       "      <td>29-Aug</td>\n",
       "      <td>2050</td>\n",
       "      <td>33.100</td>\n",
       "      <td>21.6670</td>\n",
       "    </tr>\n",
       "    <tr>\n",
       "      <td>30</td>\n",
       "      <td>29-Aug</td>\n",
       "      <td>2200</td>\n",
       "      <td>31.500</td>\n",
       "      <td>20.5560</td>\n",
       "    </tr>\n",
       "    <tr>\n",
       "      <td>31</td>\n",
       "      <td>29-Aug</td>\n",
       "      <td>2330</td>\n",
       "      <td>28.800</td>\n",
       "      <td>19.1670</td>\n",
       "    </tr>\n",
       "    <tr>\n",
       "      <td>32</td>\n",
       "      <td>30-Aug</td>\n",
       "      <td>330</td>\n",
       "      <td>21.300</td>\n",
       "      <td>15.5560</td>\n",
       "    </tr>\n",
       "    <tr>\n",
       "      <td>33</td>\n",
       "      <td>30-Aug</td>\n",
       "      <td>2000</td>\n",
       "      <td>37.800</td>\n",
       "      <td>23.8890</td>\n",
       "    </tr>\n",
       "    <tr>\n",
       "      <td>34</td>\n",
       "      <td>30-Aug</td>\n",
       "      <td>2055</td>\n",
       "      <td>37.000</td>\n",
       "      <td>22.9170</td>\n",
       "    </tr>\n",
       "    <tr>\n",
       "      <td>35</td>\n",
       "      <td>30-Aug</td>\n",
       "      <td>2200</td>\n",
       "      <td>37.100</td>\n",
       "      <td>22.5000</td>\n",
       "    </tr>\n",
       "    <tr>\n",
       "      <td>36</td>\n",
       "      <td>1-Sep</td>\n",
       "      <td>2200</td>\n",
       "      <td>36.200</td>\n",
       "      <td>21.1110</td>\n",
       "    </tr>\n",
       "    <tr>\n",
       "      <td>37</td>\n",
       "      <td>2-Sep</td>\n",
       "      <td>330</td>\n",
       "      <td>31.400</td>\n",
       "      <td>19.7220</td>\n",
       "    </tr>\n",
       "    <tr>\n",
       "      <td>38</td>\n",
       "      <td>2-Sep</td>\n",
       "      <td>600</td>\n",
       "      <td>30.200</td>\n",
       "      <td>18.8890</td>\n",
       "    </tr>\n",
       "    <tr>\n",
       "      <td>39</td>\n",
       "      <td>4-Sep</td>\n",
       "      <td>240</td>\n",
       "      <td>31.300</td>\n",
       "      <td>20.5560</td>\n",
       "    </tr>\n",
       "    <tr>\n",
       "      <td>40</td>\n",
       "      <td>4-Sep</td>\n",
       "      <td>505</td>\n",
       "      <td>26.100</td>\n",
       "      <td>17.2220</td>\n",
       "    </tr>\n",
       "    <tr>\n",
       "      <td>41</td>\n",
       "      <td>5-Sep</td>\n",
       "      <td>500</td>\n",
       "      <td>25.200</td>\n",
       "      <td>17.2220</td>\n",
       "    </tr>\n",
       "    <tr>\n",
       "      <td>42</td>\n",
       "      <td>6-Sep</td>\n",
       "      <td>600</td>\n",
       "      <td>23.660</td>\n",
       "      <td>16.1110</td>\n",
       "    </tr>\n",
       "    <tr>\n",
       "      <td>43</td>\n",
       "      <td>7-Sep</td>\n",
       "      <td>215</td>\n",
       "      <td>22.250</td>\n",
       "      <td>16.6670</td>\n",
       "    </tr>\n",
       "    <tr>\n",
       "      <td>44</td>\n",
       "      <td>7-Sep</td>\n",
       "      <td>525</td>\n",
       "      <td>17.500</td>\n",
       "      <td>13.6110</td>\n",
       "    </tr>\n",
       "    <tr>\n",
       "      <td>45</td>\n",
       "      <td>9-Sep</td>\n",
       "      <td>2010</td>\n",
       "      <td>15.500</td>\n",
       "      <td>12.7780</td>\n",
       "    </tr>\n",
       "    <tr>\n",
       "      <td>46</td>\n",
       "      <td>9-Sep</td>\n",
       "      <td>2110</td>\n",
       "      <td>14.750</td>\n",
       "      <td>11.1110</td>\n",
       "    </tr>\n",
       "    <tr>\n",
       "      <td>47</td>\n",
       "      <td>10-Sep</td>\n",
       "      <td>2115</td>\n",
       "      <td>15.000</td>\n",
       "      <td>11.6670</td>\n",
       "    </tr>\n",
       "    <tr>\n",
       "      <td>48</td>\n",
       "      <td>10-Sep</td>\n",
       "      <td>2210</td>\n",
       "      <td>14.000</td>\n",
       "      <td>10.0000</td>\n",
       "    </tr>\n",
       "    <tr>\n",
       "      <td>49</td>\n",
       "      <td>11-Sep</td>\n",
       "      <td>315</td>\n",
       "      <td>18.500</td>\n",
       "      <td>11.1110</td>\n",
       "    </tr>\n",
       "    <tr>\n",
       "      <td>50</td>\n",
       "      <td>16-Sep</td>\n",
       "      <td>2100</td>\n",
       "      <td>27.700</td>\n",
       "      <td>18.3330</td>\n",
       "    </tr>\n",
       "    <tr>\n",
       "      <td>51</td>\n",
       "      <td>17-Sep</td>\n",
       "      <td>2200</td>\n",
       "      <td>26.000</td>\n",
       "      <td>17.2220</td>\n",
       "    </tr>\n",
       "    <tr>\n",
       "      <td>52</td>\n",
       "      <td>18-Sep</td>\n",
       "      <td>130</td>\n",
       "      <td>21.700</td>\n",
       "      <td>15.0000</td>\n",
       "    </tr>\n",
       "    <tr>\n",
       "      <td>53</td>\n",
       "      <td>19-Sep</td>\n",
       "      <td>415</td>\n",
       "      <td>12.500</td>\n",
       "      <td>10.4170</td>\n",
       "    </tr>\n",
       "    <tr>\n",
       "      <td>54</td>\n",
       "      <td>19-Sep</td>\n",
       "      <td>435</td>\n",
       "      <td>12.500</td>\n",
       "      <td>9.5833</td>\n",
       "    </tr>\n",
       "  </tbody>\n",
       "</table>\n",
       "</div>"
      ],
      "text/plain": [
       "      Date  Time  Chirps_15s   Temp_C\n",
       "0   21-Aug  2030      44.000  26.9440\n",
       "1   21-Aug  2100      46.400  25.8330\n",
       "2   21-Aug  2200      43.600  25.5560\n",
       "3   24-Aug  1945      35.000  23.0560\n",
       "4   24-Aug  2015      35.000  21.3890\n",
       "5   24-Aug  2100      32.600  20.0000\n",
       "6   24-Aug  2200      28.900  18.8890\n",
       "7   24-Aug  2230      27.700  18.3330\n",
       "8   25-Aug    30      25.500  16.3890\n",
       "9   25-Aug   330      20.375  13.8890\n",
       "10  25-Aug   500      12.500  12.7780\n",
       "11  25-Aug  2000      37.000  24.5830\n",
       "12  25-Aug  2030      37.500  23.3330\n",
       "13  25-Aug  2100      36.500  23.3330\n",
       "14  25-Aug  2200      36.200  22.5000\n",
       "15  26-Aug   530      33.000  18.8890\n",
       "16  26-Aug  2030      43.000  25.2780\n",
       "17  26-Aug  2200      46.000  25.8330\n",
       "18  27-Aug  2000      29.000  20.2780\n",
       "19  27-Aug  2030      31.700  20.2780\n",
       "20  27-Aug  2100      31.000  20.0000\n",
       "21  27-Aug  2200      28.750  18.8890\n",
       "22  28-Aug   240      23.500  15.0000\n",
       "23  28-Aug  2010      32.400  21.1110\n",
       "24  28-Aug  2050      31.000  20.5560\n",
       "25  28-Aug  2200      29.500  19.4440\n",
       "26  29-Aug   240      22.500  16.2500\n",
       "27  29-Aug   440      20.600  14.7220\n",
       "28  29-Aug  2000      35.000  22.2220\n",
       "29  29-Aug  2050      33.100  21.6670\n",
       "30  29-Aug  2200      31.500  20.5560\n",
       "31  29-Aug  2330      28.800  19.1670\n",
       "32  30-Aug   330      21.300  15.5560\n",
       "33  30-Aug  2000      37.800  23.8890\n",
       "34  30-Aug  2055      37.000  22.9170\n",
       "35  30-Aug  2200      37.100  22.5000\n",
       "36   1-Sep  2200      36.200  21.1110\n",
       "37   2-Sep   330      31.400  19.7220\n",
       "38   2-Sep   600      30.200  18.8890\n",
       "39   4-Sep   240      31.300  20.5560\n",
       "40   4-Sep   505      26.100  17.2220\n",
       "41   5-Sep   500      25.200  17.2220\n",
       "42   6-Sep   600      23.660  16.1110\n",
       "43   7-Sep   215      22.250  16.6670\n",
       "44   7-Sep   525      17.500  13.6110\n",
       "45   9-Sep  2010      15.500  12.7780\n",
       "46   9-Sep  2110      14.750  11.1110\n",
       "47  10-Sep  2115      15.000  11.6670\n",
       "48  10-Sep  2210      14.000  10.0000\n",
       "49  11-Sep   315      18.500  11.1110\n",
       "50  16-Sep  2100      27.700  18.3330\n",
       "51  17-Sep  2200      26.000  17.2220\n",
       "52  18-Sep   130      21.700  15.0000\n",
       "53  19-Sep   415      12.500  10.4170\n",
       "54  19-Sep   435      12.500   9.5833"
      ]
     },
     "execution_count": 43,
     "metadata": {},
     "output_type": "execute_result"
    }
   ],
   "source": [
    "data"
   ]
  },
  {
   "cell_type": "code",
   "execution_count": null,
   "metadata": {},
   "outputs": [],
   "source": []
  }
 ],
 "metadata": {
  "kernelspec": {
   "display_name": "Python 3",
   "language": "python",
   "name": "python3"
  },
  "language_info": {
   "codemirror_mode": {
    "name": "ipython",
    "version": 3
   },
   "file_extension": ".py",
   "mimetype": "text/x-python",
   "name": "python",
   "nbconvert_exporter": "python",
   "pygments_lexer": "ipython3",
   "version": "3.7.4"
  }
 },
 "nbformat": 4,
 "nbformat_minor": 2
}
